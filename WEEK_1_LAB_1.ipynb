{
  "nbformat": 4,
  "nbformat_minor": 0,
  "metadata": {
    "colab": {
      "name": "WEEK 1 WELCOME TO COLAB",
      "provenance": [],
      "collapsed_sections": [],
      "include_colab_link": true
    },
    "kernelspec": {
      "display_name": "Python 3",
      "name": "python3"
    }
  },
  "cells": [
    {
      "cell_type": "markdown",
      "metadata": {
        "id": "view-in-github",
        "colab_type": "text"
      },
      "source": [
        "<a href=\"https://colab.research.google.com/github/Claus2001/COMP-593/blob/main/WEEK_1_LAB_1.ipynb\" target=\"_parent\"><img src=\"https://colab.research.google.com/assets/colab-badge.svg\" alt=\"Open In Colab\"/></a>"
      ]
    },
    {
      "cell_type": "markdown",
      "metadata": {
        "id": "GJBs_flRovLc"
      },
      "source": [
        "## **Welcome to COMP 593!**\n",
        "\n",
        "For your first lab, we will experiment with running a script, and saving our project to our personal github repositories:"
      ]
    },
    {
      "cell_type": "markdown",
      "metadata": {
        "id": "xn279PBwVnDj"
      },
      "source": [
        "##Installing Dependancies##\n",
        "\n",
        "Dependancies are routines, Objects, and methods that a project requires. We add Dependancies to our project in the form of **Libraries** when we want to unlock functionality that already exists, this could be as simple as file IO or as complex as fully fledged Machine Learning libraries. Libraries can be added to our project manually, by downloading them and placing them in our runtime enviornment, or using a **Package Manager** such as PIP."
      ]
    },
    {
      "cell_type": "markdown",
      "metadata": {
        "id": "-IWb3REjW5T0"
      },
      "source": [
        "Run the below code to download the **pyfiglet** library, which we will use to generate some ASCII art."
      ]
    },
    {
      "cell_type": "code",
      "metadata": {
        "id": "ARUZhh6MS7nA",
        "colab": {
          "base_uri": "https://localhost:8080/"
        },
        "outputId": "1775ee13-1ba5-4e8d-a734-7e8c73e1cf08"
      },
      "source": [
        "pip install pyfiglet\n"
      ],
      "execution_count": 4,
      "outputs": [
        {
          "output_type": "stream",
          "name": "stdout",
          "text": [
            "Collecting pyfiglet\n",
            "  Downloading pyfiglet-0.8.post1-py2.py3-none-any.whl (865 kB)\n",
            "\u001b[K     |████████████████████████████████| 865 kB 5.2 MB/s \n",
            "\u001b[?25hInstalling collected packages: pyfiglet\n",
            "Successfully installed pyfiglet-0.8.post1\n"
          ]
        }
      ]
    },
    {
      "cell_type": "code",
      "metadata": {
        "id": "C7A8viiJXiDs"
      },
      "source": [
        "pip list"
      ],
      "execution_count": null,
      "outputs": []
    },
    {
      "cell_type": "markdown",
      "metadata": {
        "id": "SNXKhb5XXqF4"
      },
      "source": [
        "There are *hundreds of thousands* of python libraries at your disposal. Some may suit your needs better than others depending on the goals of your scripts or applications. The [PyPi Repository](https://https://pypi.org/) contains a serchable database of packages that are installable via the pip package manager.\n",
        "\n",
        "Run the code below to get an idea of the number of packages that are included for your user within Colab. You don't need to know what all of these do, but it should indicate that python is a very powerful language."
      ]
    },
    {
      "cell_type": "markdown",
      "metadata": {
        "id": "zopYZ3PcY6hR"
      },
      "source": [
        "If you would like to see if pyfiglet was installed, you could scan the list above, or you could **pipe** the output of `pip list` to a console command known as `grep` that will filter for specific strings. This is an example of **redirecting output,** which you have learned about already.\n",
        "\n",
        "\n"
      ]
    },
    {
      "cell_type": "code",
      "metadata": {
        "id": "oAMcMjbLZMIE",
        "outputId": "cd0b58c5-cd40-43df-b7f7-bab4938ecc16",
        "colab": {
          "base_uri": "https://localhost:8080/"
        }
      },
      "source": [
        "pip list | grep pyfiglet "
      ],
      "execution_count": null,
      "outputs": [
        {
          "output_type": "stream",
          "name": "stdout",
          "text": [
            "pyfiglet                      0.8.post1\n"
          ]
        }
      ]
    },
    {
      "cell_type": "markdown",
      "metadata": {
        "id": "gt5dp771Yc2c"
      },
      "source": [
        "# Writing Our Script"
      ]
    },
    {
      "cell_type": "markdown",
      "metadata": {
        "id": "Hh36394HaB3g"
      },
      "source": [
        "The intention of this Colab introduction is to get you familiar with using google Colab to accomplish scripting goals. Today, we will be using the `pyfiglet` library we have just installed to output some text. To understand the methods available to us in `pyfiglet` we can look up [the github repository.](https://github.com/pwaller/pyfiglet)\n",
        "\n",
        "***Remember: Since open source packages are at the mercy of their developers or maintainers, comprehensive documentation is never a guarantee.***\n",
        "\n",
        "The help documentation outlines a command line `--help` argument, which means that documentation exists. We can't call command line arguments for imported libraries in colab, but we *can* accomplish the same goal in colab by using the python `help([Object])` function."
      ]
    },
    {
      "cell_type": "code",
      "metadata": {
        "id": "zR6mZpfkgRxd",
        "outputId": "5c7474c8-bf5c-4278-8ef6-2a4cb08d84bd",
        "colab": {
          "base_uri": "https://localhost:8080/"
        }
      },
      "source": [
        "from pyfiglet import Figlet\n",
        "f = Figlet(font = 'unarmed_')\n",
        "print(f.renderText('text to render'))\n",
        "\n",
        "print(\"Justification:\", f.justify)\n",
        "\n",
        "f.setFont(font = \"standard\")\n",
        "print(f.renderText('text to render'))"
      ],
      "execution_count": null,
      "outputs": [
        {
          "output_type": "stream",
          "name": "stdout",
          "text": [
            "         #######                             ### \n",
            "       #       #                 #         # ### \n",
            "     ###  # # ##               ###       ### ### \n",
            "   #####      #              #####     ##### ### \n",
            " #### #   # ###         #  #### #    #### #  ##  \n",
            "### ####    #             ### ####  ### #### ### \n",
            "#### ##  ####         ### #### ##   #### ##  ##  \n",
            " ####### ##         #####  #######   ####### ### \n",
            "## #######         ######## ####### ##       \n",
            " #       #         #              #  #       \n",
            " #  # # ##         ########  # # ##  #       \n",
            " #      #           #            #   #       \n",
            " #  # ###  ##      ########  # ###   #       \n",
            " #    #             # #        #     #       \n",
            " # ####    ####### ######## ####     #       \n",
            " # ##      #  # ### ####### ##       #       \n",
            "\n",
            "Justification: left\n",
            " _            _     _                             _           \n",
            "| |_ _____  _| |_  | |_ ___    _ __ ___ _ __   __| | ___ _ __ \n",
            "| __/ _ \\ \\/ / __| | __/ _ \\  | '__/ _ \\ '_ \\ / _` |/ _ \\ '__|\n",
            "| ||  __/>  <| |_  | || (_) | | | |  __/ | | | (_| |  __/ |   \n",
            " \\__\\___/_/\\_\\\\__|  \\__\\___/  |_|  \\___|_| |_|\\__,_|\\___|_|   \n",
            "                                                              \n",
            "\n"
          ]
        }
      ]
    },
    {
      "cell_type": "markdown",
      "metadata": {
        "id": "UxKlfQJrmq4N"
      },
      "source": [
        "Using this function we can see that the `Figlet` object has several methods available. This will bring us to your task:\n",
        "\n",
        "\n",
        "**In the editor below, finish a script that accomplishes the following goals:**\n",
        "\n",
        "1.   Prompt the user to select from a list of 5 fonts.\n",
        "2.   Prompt the user to input the string they would like output in that font.\n",
        "3.   Render the text using the selected font.\n",
        "\n",
        "*Hint:* Call the `getFonts()` method to get a list of the available fonts."
      ]
    },
    {
      "cell_type": "code",
      "source": [
        "from pyfiglet import Figlet\n",
        "\n",
        "#Instantiate a Figlet Object\n",
        "figlet = Figlet()\n",
        "print(figlet.getFonts())"
      ],
      "metadata": {
        "id": "FQ7pvQtZDF4Q",
        "outputId": "12ccfd1f-a404-4d71-ff43-beea0308160e",
        "colab": {
          "base_uri": "https://localhost:8080/"
        }
      },
      "execution_count": null,
      "outputs": [
        {
          "output_type": "stream",
          "name": "stdout",
          "text": [
            "['courb', 'rainbow_', 'stacey', 'britebi', 'hex', 'short', 'alligator2', 'hollywood', 'cosmike', 'helvi', 'clb8x8', 'fbr_stri', 'hyper___', '5x7', 'unarmed_', 'helvb', 'future_6', 'ebbs_2__', 't__of_ap', 'ghost_bo', 'joust___', 'platoon_', 'dotmatrix', 'e__fist_', 'street_s', 'tanja', 'pod_____', 'zone7___', 'italics_', 'cyberlarge', 'times', 'xsansi', 'twopoint', 'fair_mea', 'eftiwater', 'small', 'cursive', 'timesofl', 'rectangles', 'fender', 'katakana', 'sbooki', 'fbr_tilt', 'smscript', 'atc_____', 'bigchief', 'xsansbi', 'mini', 'battlesh', 'jazmine', 'rad_phan', 'rockbox_', 'f15_____', 'rci_____', 'chartr', 'sm______', 'bubble__', 'rok_____', 'hades___', 'flyn_sh', 'dwhistled', 'nancyj', 'starwars', 'italic', 'sketch_s', 'zig_zag_', 'xtimes', 'runic', 'alligator', 'avatar', 'triad_st', 'characte', 'tomahawk', 'mad_nurs', 'c2______', 'smkeyboard', 'colossal', 'lexible_', 'caligraphy', 'outrun__', 'speed', 'utopiabi', 'faces_of', 'contessa', 'devilish', 'trashman', 'jerusalem', 'krak_out', 'marquee', 'decimal', 'cybermedium', 'twin_cob', 'linux', 'gradient', 'charact3', 'cybersmall', 'utopia', 'subteran', 'lockergnome', 'ok_beer_', 'defleppard', 'script', 'druid___', 'graffiti', 'bell', 'eftitalic', 'acrobatic', 'yie_ar_k', 'basic', 'xsansb', 'hypa_bal', 'clb8x10', 'cli8x8', 'vortron_', 'char4___', 'doh', 'xhelvbi', '6x10', 'mnemonic', 'fbr12___', 'letterw3', 'd_dragon', 'xsans', 'clr4x6', 'stencil1', 'fraktur', '3x5', 'tec_7000', 'arrows', 'xcouri', 'new_asci', 'isometric3', 'charact1', 'atc_gran', 'sansi', 'clr5x10', 'ascii___', 'rounded', 'kban', 'spc_demo', 'ts1_____', 'poison', 'isometric4', 'tiles', 'clr5x8', 'grand_pr', 'fp2_____', 'thick', 'xbrite', 'tsm_____', 'convoy__', 'clr6x10', 'dcs_bfmo', 'asslt__m', 'future_7', 'beer_pub', 'caus_in_', 'road_rai', 'graceful', 'ntgreek', 'tsn_base', 'future_4', 'skate_ro', 'clb6x10', 'term', 'helvbi', 'lazy_jon', 'mayhem_d', 'banner3', 'trek', 'puffy', 'standard', 'demo_m__', 'letters', 'deep_str', 'sblood', 'nfi1____', 'fireing_', 'clr8x10', 'npn_____', 'diamond', 'super_te', '64f1____', 'charset_', 'a_zooloo', 'relief', 'mcg_____', 'eftifont', 'rowancap', 'sbookb', 'stealth_', 'gauntlet', 'c_ascii_', 'britei', 'xchartr', 'nancyj-fancy', 'pacos_pe', 'xhelvi', 'couri', 'mig_ally', 'tinker-toy', 'demo_1__', '5lineoblique', 'xbritebi', 'ebbs_1__', 'ttyb', 'isometric1', 'maxfour', 'etcrvs__', 'gothic__', '5x8', 'clr6x6', 'block', 'fairligh', 'xcour', 'crawford', 'banner3-D', 'phonix__', 'mirror', 'magic_ma', 'clr5x6', 'weird', 'eftiwall', 'slscript', 'nipples', 'tec1____', 'xttyb', 'sansb', 'ucf_fan_', 'eca_____', 'morse', 'aquaplan', 'mshebrew210', 'char3___', 'z-pilot_', 'xsbookb', 'rally_sp', 'ticksslant', 'pebbles', 'assalt_m', 'tombstone', 'cour', 'star_war', 'univers', 'tubular', 'tty', 'mike', 'hills___', 'os2', 'madrid', 'shimrod', 'p_skateb', 'wavy', 'panther_', 'nancyj-underlined', 'tengwar', 'smtengwar', 'tsalagi', 'doom', 'baz__bil', 'utopiab', 'relief2', 'future_3', 'runyc', 'roman___', 'stellar', 'space_op', 'sans', 'heroboti', 'kgames_i', 'rot13', 'charact4', 'p_s_h_m_', 'usa_pq__', 'future_5', 'xsbooki', 'ripper!_', 'clr8x8', 'greek', 'bulbhead', 'ugalympi', 'contrast', 'roman', 'peaks', 'finalass', 'ticks', 'chartri', 'whimsy', 'slide', 'r2-d2___', 'ti_pan__', 'drpepper', 'larry3d', 'cosmic', 'serifcap', 'digital', 'ogre', 'odel_lak', 'kik_star', 'usa_____', 'future_8', 'big', 'heavy_me', 'eftirobot', 'gothic', 'xtty', 'tecrvs__', 'double', 'barbwire', 'fantasy_', 'rampage_', '1943____', 'lcd', 'calgphy2', 'clr7x10', 'epic', 'top_duck', 'coinstak', 'binary', 'sansbi', 'type_set', 'fbr2____', 'xsbook', 'home_pak', 'thin', 'com_sen_', 'demo_2__', 'house_of', 'war_of_w', 'raw_recu', 'rad_____', 'fp1_____', 'char2___', 'octal', 'xhelvb', 'lean', 'banner', 'usaflag', 'letter_w', 'fourtops', 'advenger', 'future_2', 'slant', 'briteb', 'radical_', 'stampatello', 'straight', 'c1______', 'stop', 'invita', 'rally_s2', 'smshadow', 'taxi____', 'skateroc', 'o8', 'threepoint', 'rev', 'fbr1____', 'green_be', 'catwalk', 'clr6x8', 'asc_____', 'xcourbi', 'xbritei', 'courbi', 'isometric2', 'goofy', 'skateord', 'funky_dr', 'high_noo', 'nvscript', '3-d', 'modern__', 'helv', 'fuzzy', 'smisome1', 'pawn_ins', 'eftipiti', 'platoon2', 'moscow', 'notie_ca', 'xhelv', 'b_m__200', 'sbook', '4x4_offr', 'broadway', 'stencil2', 'chunky', 'banner4', 'master_o', 'rozzo', 'yie-ar__', 'inc_raw_', 'rastan__', 'pawp', 'brite', 'eftichess', 'charact6', 'xcourb', 'xbriteb', '6x9', 'bubble_b', 'bubble', 'pepper', 'pyramid', 'alphabet', 'script__', 'shadow', 'tav1____', 'utopiai', 'charact5', 'char1___', 'sbookbi', 'battle_s', 'ivrit', 'computer', 'future_1', 'coil_cop', 'smslant', 'charact2', 'clr7x8', 'xchartri', 'c_consen', 'xsbookbi', 'cricket']\n"
          ]
        }
      ]
    },
    {
      "cell_type": "code",
      "metadata": {
        "id": "b2y8sufRoEpR",
        "outputId": "c0ecdd03-7b01-4af2-ba2a-48b2f71df9b6",
        "colab": {
          "base_uri": "https://localhost:8080/"
        }
      },
      "source": [
        "from pyfiglet import Figlet\n",
        "\n",
        "#Instantiate a Figlet Object\n",
        "f = Figlet()\n",
        "selectedFont = int(input(\"Select a font: \\n 1. Rounded \\n 2. Kban \\n 3. Rainbow \\n 4. Weird \\n 5. Nipples \\n\" ))\n",
        "if selectedFont == 1:\n",
        "#Prompt the user to select a font\n",
        "  f.setFont(font=\"rounded\")\n",
        "  #Prompt the user to type a message\n",
        "  msg = input(\"Type your message: \\n\")\n",
        "  #render the message as figlet\n",
        "  print(f.renderText(msg))\n",
        "elif selectedFont == 2:\n",
        "  # Prompt the user to select a font\n",
        "  f.setFont(font=\"kban\")\n",
        "  # Prompt the user to type a message\n",
        "  msg = input(\"Type your message: \\n\")\n",
        "  # render the message as figlet\n",
        "  print(f.renderText(msg))\n",
        "elif selectedFont == 3:\n",
        "  # Prompt the user to select a font\n",
        "  f.setFont(font=\"rainbow_\")\n",
        "  # Prompt the user to type a message\n",
        "  msg = input(\"Type your message: \\n\")\n",
        "  # render the message as figlet\n",
        "  print(f.renderText(msg))\n",
        "elif selectedFont == 4:\n",
        "  # Prompt the user to select a font\n",
        "  f.setFont(font=\"weird\")\n",
        "  # Prompt the user to type a message\n",
        "  msg = input(\"Type your message: \\n\")\n",
        "  # render the message as figlet\n",
        "  print(f.renderText(msg))\n",
        "elif selectedFont == 5:\n",
        "  # Prompt the user to select a font\n",
        "  f.setFont(font=\"nipples\")\n",
        "  # Prompt the user to type a message\n",
        "  msg = input(\"Type your message: \\n\")\n",
        "  # render the message as figlet\n",
        "  print(f.renderText(msg))\n",
        "\n",
        "\n",
        "\n",
        "\n"
      ],
      "execution_count": 5,
      "outputs": [
        {
          "output_type": "stream",
          "name": "stdout",
          "text": [
            "Select a font: \n",
            " 1. Rounded \n",
            " 2. Kban \n",
            " 3. Rainbow \n",
            " 4. Weird \n",
            " 5. Nipples \n",
            "3\n",
            "Type your message: \n",
            "claus\n",
            "# ### ## # ### ## ### ###  # ### ## ### ###  \n",
            "# ### ## # ### ## ### ###  # ### ## ### ###  \n",
            "# ### ## # ### ## ### ###  ##### ## ### ###  \n",
            "# ### ## # ### ## ### ###  # ### ## #######  \n",
            "# ### ## # ### ## ######## # ### ##     #### \n",
            "# ### ## # ######     ##   # ### ##          \n",
            "# ### ## ########   ##  ## # ### ##   ##  ## \n",
            "# ### ## # ### ## ### ###  # ### ## ### ###  \n",
            "\n"
          ]
        }
      ]
    },
    {
      "cell_type": "markdown",
      "metadata": {
        "id": "wXiyORkQqUfz"
      },
      "source": [
        "# Submitting your Script"
      ]
    },
    {
      "cell_type": "markdown",
      "metadata": {
        "id": "eUMXNhytqZY6"
      },
      "source": [
        "Once you have succesfully completed your script, make sure to save it to your github account. (Take a look [at the official colab instructions](https://colab.research.google.com/github/googlecolab/colabtools/blob/master/notebooks/colab-github-demo.ipynb) if you need a refresher.)"
      ]
    }
  ]
}